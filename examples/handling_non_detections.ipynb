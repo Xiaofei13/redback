{
 "cells": [
  {
   "cell_type": "markdown",
   "id": "8b6ecf5c",
   "metadata": {},
   "source": [
    "### Non-detections are common in transient astronomy, but sadly (sometimes for good reason) there is no single standard in how they are defined. This makes it tricky to write a single method to dealing with non-detections in a package like redback. \n",
    "\n",
    "### Instead, in this notebook we show one general way you can deal with non-detections in redback. And show you \"how to fish\", so you can also incorporate your own methods."
   ]
  },
  {
   "cell_type": "code",
   "execution_count": null,
   "id": "ca2ec4ef",
   "metadata": {},
   "outputs": [],
   "source": [
    "import numpy as np\n",
    "import matplotlib.pyplot as plt\n",
    "import redback"
   ]
  },
  {
   "cell_type": "markdown",
   "id": "d43d2c3c",
   "metadata": {},
   "source": [
    "One of the simplest non-detections you can consider is that you simply know the flux/luminosity *whatever* does not exceed a certain value. Maybe this is because of physics e.g., maybe you have an empirical model for a certain transient and you know its never as bright as another transient, or you read a paper which says source was below a flux (whatever units) of X but you are not provided any details on the noise.\n",
    "\n",
    "In such situations the easiest thing you can do is set a constraint on your prior to never violate this 'constraint'. How to do this is already shown in the `non_detection_example.py`, so I wont go into more detail here. I generally recommend going down this route unless you know what you are doing, you understand how your data was generated (including the non-detections), i.e., you understand what is the proper likelihood or are making a concious decision to use the wrong likelihood.\n",
    "\n",
    "The next case assumes you do understand the likelihood and relies on changing the default likelihood in redback. Let's first start by simulating some transient data, including non-detections. I will use the `simulation` module to do this."
   ]
  },
  {
   "cell_type": "code",
   "execution_count": null,
   "id": "7f990a95",
   "metadata": {},
   "outputs": [],
   "source": [
    "from redback.simulate_transients import SimulateOpticalTransient\n",
    "np.random.seed(1234)\n",
    "parameters = {}\n",
    "# We also can place the transient on the sky by setting the ra and dec parameters.\n",
    "# This will be randomly set from the pointing if not given.\n",
    "parameters = redback.priors.get_priors(model='arnett').sample()\n",
    "parameters['mej'] = 10\n",
    "parameters['t0_mjd_transient'] = 60500\n",
    "parameters['redshift'] = 0.32\n",
    "parameters['t0'] = parameters['t0_mjd_transient']\n",
    "parameters['temperature_floor'] = 1000\n",
    "parameters['kappa'] = 0.34\n",
    "parameters['vej'] = 2500\n",
    "parameters['kappa_gamma'] = 1e-2\n",
    "parameters['f_nickel'] = 0.05\n",
    "\n",
    "parameters['ra'] = 1.2\n",
    "parameters['dec'] = -0.8\n",
    "print(parameters)\n",
    "model_kwargs = {}\n",
    "# We now simulate a kilonova using the SimulateOpticalTransient class.\n",
    "# Now specifying a survey string, which will load the pointings table from the tables directory in redback.\n",
    "# These tables will need to be downloaded from zenodo using the redback.utils if not already present.\n",
    "# Please look at the documentation for more details.\n",
    "sn_sim = SimulateOpticalTransient.simulate_transient_in_rubin(model='arnett',\n",
    "                                                              survey='Rubin_10yr_baseline',\n",
    "                                                              parameters=parameters, \n",
    "                                                              model_kwargs=model_kwargs,\n",
    "                                                              end_transient_time=250., \n",
    "                                                              snr_threshold=3.)"
   ]
  },
  {
   "cell_type": "markdown",
   "id": "eabef7a9",
   "metadata": {},
   "source": [
    "Lets load this into a redback transient object and plot the data with the true model to see what it all looks like.\n",
    "\n",
    "First lets extract all the necessary attributes. Note we could directly create a transient object via the from simulation class method but I am doing it manually here so you can see what you need to do for your own transient."
   ]
  },
  {
   "cell_type": "code",
   "execution_count": null,
   "id": "8e3ec06f",
   "metadata": {},
   "outputs": [],
   "source": [
    "data = sn_sim.observations\n",
    "time = data['time (days)'].values\n",
    "flux = data['flux(erg/cm2/s)'].values\n",
    "flux_err = data['flux_error'].values\n",
    "bands = data['band'].values\n",
    "\n",
    "# Limiting flux. This is a 5-sigma limit in the simulation module. \n",
    "limits = data['flux_limit']\n",
    "# This is an array of booleans, O for non-detections, 1 for detections. \n",
    "detections = data['detected']\n",
    "detected_mask = detections == 1.0\n",
    "\n",
    "# just for convenience\n",
    "upper_limits = sn_sim.observations[sn_sim.observations['detected'] != 1.0]\n",
    "\n",
    "# let's create a redback transient object including only the detections\n",
    "sn = redback.transient.Supernova(name='upperlimits', time=time[detected_mask], \n",
    "                                flux=flux[detected_mask], flux_err=flux_err[detected_mask], \n",
    "                                data_mode='flux', bands=bands[detected_mask])\n",
    "# Make a dictionary for colors on the plot\n",
    "band_colors = {'lsstg':'#4daf4a', 'lsstu':'#377eb8', 'lsstr':'#e41a1c', \n",
    "               'lsstz':'#a65628', 'lssti':'#ff7f00', 'lssty':'#984ea3'}\n",
    "ax = sn.plot_data(band_colors=band_colors, show=False)\n",
    "ax.set_ylim(1e-17, 4e-14)\n",
    "\n",
    "# Let's plot the non-detections on top \n",
    "for band in band_colors.keys():\n",
    "    up = upper_limits[upper_limits['band'] == band]\n",
    "    ax.scatter(up['time (days)'], up['flux_limit'], s=100, \n",
    "                marker=r'$\\downarrow$', color=band_colors[band])\n",
    "    \n",
    "    \n",
    "# We can also plot the true data \n",
    "tt = np.linspace(0.1, 300, 200)\n",
    "# specify output_format \n",
    "parameters['output_format'] = 'flux'\n",
    "for band in band_colors.keys():\n",
    "    parameters['bands'] = band\n",
    "    out = redback.transient_models.supernova_models.arnett(tt, **parameters)\n",
    "    ax.semilogy(tt, out, color=band_colors[band], label=band)"
   ]
  },
  {
   "cell_type": "markdown",
   "id": "5627815f",
   "metadata": {},
   "source": [
    "So you can see that the simulated transient has a bunch of detections and some non-detections in lsstu band and in lssty band. \n",
    "\n",
    "### Now what's the correct likelihood? \n",
    "\n",
    "\n",
    "Assuming the data is generated following model output + normal with zero mean and $\\sigma \\sim {\\rm flux\\_err}$ then the likelihood is Gaussian. If the limits are a $3\\sigma$ threshold, then the 'sigma' of the upper limit is $\\sim \\rm{limit}/3$, and the likelihood is the CDF at obs_upperlimit - model / upper_limit_sigma\n",
    "\n",
    "There is already a likelihood defined in redback to deal with such scenarios. Let's first show how it functions. Note this is an example you could use yourself, but ideally, after this tutorial, you also know how you would go about writing your own likelihood if you want to deal with a non-detection differently; for example, if your data is not in fact, Gaussian or reasonably approximated as a Gaussian e.g., when you have to count photons on one hand..."
   ]
  },
  {
   "cell_type": "code",
   "execution_count": null,
   "id": "3e16f4fe",
   "metadata": {},
   "outputs": [],
   "source": [
    "redback.likelihoods.GaussianLikelihoodWithUpperLimits??"
   ]
  },
  {
   "cell_type": "markdown",
   "id": "0003a3e9",
   "metadata": {},
   "source": [
    "### Let's now use this likelihood. \n",
    "\n",
    "Now, the main difference between this and other redback likelihoods is that this needs the x/y/etc attributes to contain all the detections and non-detections alongside an extra array which flags which data points are upperlimits. So we can't just use the transient object populated x/y/etc"
   ]
  },
  {
   "cell_type": "code",
   "execution_count": null,
   "id": "fbe98038",
   "metadata": {},
   "outputs": [],
   "source": [
    "function = redback.transient_models.supernova_models.arnett\n",
    "x = time\n",
    "y = np.zeros(len(time))\n",
    "y[detected_mask] = flux[detected_mask]\n",
    "y[~detected_mask] = limits[~detected_mask]\n",
    "y_err = flux_err\n",
    "kwargs = {\"bands\":bands, 'output_format':'flux'}\n",
    "likelihood = redback.likelihoods.GaussianLikelihoodWithUpperLimits(x=x, y=y,sigma=y_err, \n",
    "                                                                   function=function, \n",
    "                                                                   detections=detections, \n",
    "                                                                   kwargs=kwargs, upper_limit_sigma=5.)"
   ]
  },
  {
   "cell_type": "code",
   "execution_count": null,
   "id": "8b1c31da",
   "metadata": {},
   "outputs": [],
   "source": [
    "# let's get a summary of the likelihood to make sure things look right.\n",
    "likelihood.summary()"
   ]
  },
  {
   "cell_type": "markdown",
   "id": "26d6168a",
   "metadata": {},
   "source": [
    "We can now sample with this likelihood as we normally would in redback"
   ]
  },
  {
   "cell_type": "code",
   "execution_count": null,
   "id": "be8b6bd0",
   "metadata": {},
   "outputs": [],
   "source": [
    "priors = redback.priors.get_priors('arnett')\n",
    "priors['redshift'] = parameters['redshift']\n",
    "priors['kappa'] = parameters['kappa']\n",
    "priors['kappa_gamma'] = parameters['kappa_gamma']\n",
    "priors['vej'].maximum = 8000\n",
    "injection_parameters = {}\n",
    "for key in priors:\n",
    "    injection_parameters[key] = parameters[key]\n",
    "    \n",
    "result = redback.fit_model(transient=sn, likelihood=likelihood, model='arnett', prior=priors, \n",
    "                          sampler='pymultinest', nlive=500, clean=True, plot=False, \n",
    "                           injection_parameters=parameters, model_kwargs=kwargs)"
   ]
  },
  {
   "cell_type": "markdown",
   "id": "566f97ea",
   "metadata": {},
   "source": [
    "### Let's also do a detection only fit to see how it compares."
   ]
  },
  {
   "cell_type": "code",
   "execution_count": null,
   "id": "ffd2582e",
   "metadata": {},
   "outputs": [],
   "source": [
    "# let's create a redback transient object including only the detections\n",
    "sn = redback.transient.Supernova(name='only_detections', time=time[detected_mask], \n",
    "                                flux=flux[detected_mask], flux_err=flux_err[detected_mask], \n",
    "                                data_mode='flux', bands=bands[detected_mask])\n",
    "\n",
    "priors = redback.priors.get_priors('arnett')\n",
    "priors['redshift'] = parameters['redshift']\n",
    "priors['kappa'] = parameters['kappa']\n",
    "priors['kappa_gamma'] = parameters['kappa_gamma']\n",
    "priors['vej'].maximum = 8000\n",
    "injection_parameters = {}\n",
    "for key in priors:\n",
    "    injection_parameters[key] = parameters[key]\n",
    "\n",
    "kwargs = {\"bands\":bands[detected_mask], 'output_format':'flux'}\n",
    "# now we do not specify the likelihood, which defaults to using a Gaussian likelihood\n",
    "# and only using detections\n",
    "result_dets = redback.fit_model(transient=sn, model='arnett', prior=priors, \n",
    "                          sampler='pymultinest', nlive=500, clean=True, plot=False, \n",
    "                           injection_parameters=parameters, model_kwargs=kwargs)"
   ]
  },
  {
   "cell_type": "markdown",
   "id": "b7e044be",
   "metadata": {},
   "source": [
    "Let's compare the two outputs"
   ]
  },
  {
   "cell_type": "code",
   "execution_count": null,
   "id": "548872b4",
   "metadata": {},
   "outputs": [],
   "source": [
    "fig, axes = plt.subplots(1, 2, figsize=(10, 6))\n",
    "axes = axes.ravel()\n",
    "\n",
    "ax = axes[0]\n",
    "ax = result.plot_lightcurve(band_colors=band_colors, show=False, random_models=100, \n",
    "                            uncertainty_mode='credible_intervals', axes=ax, plot_max_likelihood=False)\n",
    "\n",
    "# Let's plot the non-detections on top \n",
    "for band in band_colors.keys():\n",
    "    up = upper_limits[upper_limits['band'] == band]\n",
    "    ax.scatter(up['time (days)'], up['flux_limit'], s=100, \n",
    "                marker=r'$\\downarrow$', color=band_colors[band])\n",
    "ax.set_ylim(1e-17, 4e-14)   \n",
    "    \n",
    "ax = axes[1]\n",
    "\n",
    "ax = result_dets.plot_lightcurve(band_colors=band_colors, show=False, random_models=100, \n",
    "                            uncertainty_mode='credible_intervals', axes=ax, plot_max_likelihood=False)\n",
    "ax.set_ylim(1e-17, 4e-14)\n",
    "\n",
    "# Let's plot the non-detections on top \n",
    "for band in band_colors.keys():\n",
    "    up = upper_limits[upper_limits['band'] == band]\n",
    "    ax.scatter(up['time (days)'], up['flux_limit'], s=100, \n",
    "                marker=r'$\\downarrow$', color=band_colors[band])\n",
    "    "
   ]
  },
  {
   "cell_type": "markdown",
   "id": "82463676",
   "metadata": {},
   "source": [
    "This was obviously a very exaggerated example with a lot of non-detections but now you know how to include them through the likelihood method. Keep in mind that it is easy to use different likelihoods in redback; so if you have a different data generating process with non-detections you can write your own likelihood, to make life even simpler; you could subclass the likelihood described above and just change the log_likelihood method to follow the math of your data-generating process."
   ]
  }
 ],
 "metadata": {
  "kernelspec": {
   "display_name": "Python 3 (ipykernel)",
   "language": "python",
   "name": "python3"
  },
  "language_info": {
   "codemirror_mode": {
    "name": "ipython",
    "version": 3
   },
   "file_extension": ".py",
   "mimetype": "text/x-python",
   "name": "python",
   "nbconvert_exporter": "python",
   "pygments_lexer": "ipython3",
   "version": "3.10.7"
  }
 },
 "nbformat": 4,
 "nbformat_minor": 5
}
